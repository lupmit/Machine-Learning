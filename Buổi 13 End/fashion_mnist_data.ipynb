{
  "nbformat": 4,
  "nbformat_minor": 0,
  "metadata": {
    "colab": {
      "name": "fashion_mnist_data.ipynb",
      "provenance": []
    },
    "kernelspec": {
      "name": "python3",
      "display_name": "Python 3"
    }
  },
  "cells": [
    {
      "cell_type": "code",
      "metadata": {
        "id": "a_FwOI8XW1t5",
        "colab_type": "code",
        "colab": {}
      },
      "source": [
        "import tensorflow as tf\n",
        "import matplotlib.pyplot as plt\n",
        "import numpy as np\n",
        "from tensorflow.keras.datasets import fashion_mnist"
      ],
      "execution_count": 0,
      "outputs": []
    },
    {
      "cell_type": "code",
      "metadata": {
        "id": "AU9vXJY0W9aV",
        "colab_type": "code",
        "colab": {}
      },
      "source": [
        "(x_train, y_train), (x_test, y_test) = fashion_mnist.load_data()"
      ],
      "execution_count": 0,
      "outputs": []
    },
    {
      "cell_type": "code",
      "metadata": {
        "id": "uF4DnozPW_Zk",
        "colab_type": "code",
        "colab": {
          "base_uri": "https://localhost:8080/",
          "height": 364
        },
        "outputId": "58286a36-079a-40e1-be03-3bc4fefa2c63"
      },
      "source": [
        "# visualization\n",
        "plt.figure(figsize=(10, 10))\n",
        "for i in range(11):\n",
        "  plt.subplot(5, 5, i + 1)\n",
        "  plt.xticks([])\n",
        "  plt.yticks([])\n",
        "  plt.imshow(x_train[i])\n",
        "  plt.xlabel(y_train[i])\n",
        "\n",
        "plt.show()"
      ],
      "execution_count": 99,
      "outputs": [
        {
          "output_type": "display_data",
          "data": {
            "image/png": "[encoded data removed]",
            "text/plain": [
              "<Figure size 720x720 with 11 Axes>"
            ]
          },
          "metadata": {
            "tags": []
          }
        }
      ]
    },
    {
      "cell_type": "code",
      "metadata": {
        "id": "fPYVcTmXXYez",
        "colab_type": "code",
        "colab": {}
      },
      "source": [
        "# nomalization\n",
        "x_train = x_train / 255.0\n",
        "x_test = x_test / 255.0"
      ],
      "execution_count": 0,
      "outputs": []
    },
    {
      "cell_type": "code",
      "metadata": {
        "id": "HbKzHVuEXitb",
        "colab_type": "code",
        "colab": {
          "base_uri": "https://localhost:8080/",
          "height": 34
        },
        "outputId": "17bbee94-55f9-4c30-ede5-6fa63c762791"
      },
      "source": [
        "x_train.shape\n",
        "height, width = x_train.shape[1:]\n",
        "num_labels = len(np.unique(y_train))\n",
        "print(num_labels)"
      ],
      "execution_count": 101,
      "outputs": [
        {
          "output_type": "stream",
          "text": [
            "10\n"
          ],
          "name": "stdout"
        }
      ]
    },
    {
      "cell_type": "code",
      "metadata": {
        "id": "VepUe4A1Xtx8",
        "colab_type": "code",
        "colab": {
          "base_uri": "https://localhost:8080/",
          "height": 319
        },
        "outputId": "0791ad4c-bddd-4df5-a213-2fd9002ae8df"
      },
      "source": [
        "from tensorflow.keras.models import Sequential\n",
        "from tensorflow.keras import layers\n",
        "\n",
        "# Build neural network\n",
        "model = Sequential([\n",
        "    layers.Flatten(input_shape=(height, width)),\n",
        "    layers.Dense(units=256, activation='relu'),\n",
        "    layers.Dense(units=128, activation='relu'),\n",
        "    layers.Dense(units=64, activation='relu'),\n",
        "    layers.Dense(units=num_labels, activation='softmax')\n",
        "]) \n",
        "\n",
        "model.summary()"
      ],
      "execution_count": 102,
      "outputs": [
        {
          "output_type": "stream",
          "text": [
            "Model: \"sequential_10\"\n",
            "_________________________________________________________________\n",
            "Layer (type)                 Output Shape              Param #   \n",
            "=================================================================\n",
            "flatten_10 (Flatten)         (None, 784)               0         \n",
            "_________________________________________________________________\n",
            "dense_37 (Dense)             (None, 256)               200960    \n",
            "_________________________________________________________________\n",
            "dense_38 (Dense)             (None, 128)               32896     \n",
            "_________________________________________________________________\n",
            "dense_39 (Dense)             (None, 64)                8256      \n",
            "_________________________________________________________________\n",
            "dense_40 (Dense)             (None, 10)                650       \n",
            "=================================================================\n",
            "Total params: 242,762\n",
            "Trainable params: 242,762\n",
            "Non-trainable params: 0\n",
            "_________________________________________________________________\n"
          ],
          "name": "stdout"
        }
      ]
    },
    {
      "cell_type": "code",
      "metadata": {
        "id": "hEaIpp9-YPTG",
        "colab_type": "code",
        "colab": {}
      },
      "source": [
        "model.compile(optimizer='sgd', loss='sparse_categorical_crossentropy', metrics=['accuracy'])"
      ],
      "execution_count": 0,
      "outputs": []
    },
    {
      "cell_type": "code",
      "metadata": {
        "id": "1hquSepDYUpE",
        "colab_type": "code",
        "colab": {
          "base_uri": "https://localhost:8080/",
          "height": 353
        },
        "outputId": "44354278-6ed4-4268-81c0-dc74c6d71ad6"
      },
      "source": [
        "epochs = 10\n",
        "history = model.fit(x_train, y_train, epochs=epochs, batch_size=16, validation_data=(x_test, y_test))"
      ],
      "execution_count": 104,
      "outputs": [
        {
          "output_type": "stream",
          "text": [
            "Epoch 1/10\n",
            "3750/3750 [==============================] - 9s 2ms/step - loss: 0.6222 - accuracy: 0.7861 - val_loss: 0.5409 - val_accuracy: 0.8073\n",
            "Epoch 2/10\n",
            "3750/3750 [==============================] - 9s 2ms/step - loss: 0.4319 - accuracy: 0.8459 - val_loss: 0.4220 - val_accuracy: 0.8473\n",
            "Epoch 3/10\n",
            "3750/3750 [==============================] - 9s 2ms/step - loss: 0.3841 - accuracy: 0.8628 - val_loss: 0.4002 - val_accuracy: 0.8531\n",
            "Epoch 4/10\n",
            "3750/3750 [==============================] - 9s 2ms/step - loss: 0.3568 - accuracy: 0.8719 - val_loss: 0.3875 - val_accuracy: 0.8592\n",
            "Epoch 5/10\n",
            "3750/3750 [==============================] - 9s 2ms/step - loss: 0.3356 - accuracy: 0.8787 - val_loss: 0.3719 - val_accuracy: 0.8641\n",
            "Epoch 6/10\n",
            "3750/3750 [==============================] - 9s 2ms/step - loss: 0.3195 - accuracy: 0.8844 - val_loss: 0.3666 - val_accuracy: 0.8649\n",
            "Epoch 7/10\n",
            "3750/3750 [==============================] - 9s 2ms/step - loss: 0.3059 - accuracy: 0.8882 - val_loss: 0.4212 - val_accuracy: 0.8457\n",
            "Epoch 8/10\n",
            "3750/3750 [==============================] - 9s 2ms/step - loss: 0.2928 - accuracy: 0.8929 - val_loss: 0.3498 - val_accuracy: 0.8695\n",
            "Epoch 9/10\n",
            "3750/3750 [==============================] - 9s 2ms/step - loss: 0.2827 - accuracy: 0.8946 - val_loss: 0.3489 - val_accuracy: 0.8738\n",
            "Epoch 10/10\n",
            "3750/3750 [==============================] - 9s 2ms/step - loss: 0.2722 - accuracy: 0.8995 - val_loss: 0.3417 - val_accuracy: 0.8757\n"
          ],
          "name": "stdout"
        }
      ]
    },
    {
      "cell_type": "code",
      "metadata": {
        "id": "cvqQpvPVYZbm",
        "colab_type": "code",
        "colab": {
          "base_uri": "https://localhost:8080/",
          "height": 50
        },
        "outputId": "28eddc5a-4120-4fb3-e8f6-6d9cb7be18a8"
      },
      "source": [
        "accuracy = model.evaluate(x_test, y_test)\n",
        "print('Accuracy', accuracy)"
      ],
      "execution_count": 105,
      "outputs": [
        {
          "output_type": "stream",
          "text": [
            "313/313 [==============================] - 0s 2ms/step - loss: 0.3417 - accuracy: 0.8757\n",
            "Accuracy [0.34165966510772705, 0.8756999969482422]\n"
          ],
          "name": "stdout"
        }
      ]
    },
    {
      "cell_type": "code",
      "metadata": {
        "id": "T4Nhnp_QYjkD",
        "colab_type": "code",
        "colab": {}
      },
      "source": [
        ""
      ],
      "execution_count": 0,
      "outputs": []
    }
  ]
}