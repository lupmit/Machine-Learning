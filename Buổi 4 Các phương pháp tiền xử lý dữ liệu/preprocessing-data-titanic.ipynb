{
 "cells": [
  {
   "cell_type": "markdown",
   "metadata": {},
   "source": [
    "# Kiểu dữ liệu"
   ]
  },
  {
   "cell_type": "markdown",
   "metadata": {},
   "source": [
    "- Survived: Ordinal dữ liệu có thứ tự dạng 0-1\n",
    "- Pclass: Ordinal dữ liệu có thứ tự cấp bậc trong xã hội\n",
    "- Name: Nominal dữ liệu dạng chữ không có thứ tự\n",
    "- Sex: Nominal dữ liệu dạng chữ không có thứ tự\n",
    "- Age: continous nhận giá trị  liện trục trên miền giá trị(0-100)\n",
    "- SibSp: Ordinal không có ý nghĩa toán học có thứ tự 0-1\n",
    "- Ticket: Nominal dạng chữ không có thứ tự\n",
    "- Fare: continous nhận giá trị liên tục\n",
    "- Cabin: Nominal dữ liệu dạng chữ không có thứ tự\n",
    "- Embarked: Nominal dữ liệu dạng chữ không có thứ tự"
   ]
  },
  {
   "cell_type": "code",
   "execution_count": 1,
   "metadata": {},
   "outputs": [],
   "source": [
    "import numpy as np\n",
    "import pandas as pd"
   ]
  },
  {
   "cell_type": "code",
   "execution_count": 2,
   "metadata": {},
   "outputs": [],
   "source": [
    "df = pd.read_csv('titanic.csv')"
   ]
  },
  {
   "cell_type": "code",
   "execution_count": 3,
   "metadata": {},
   "outputs": [
    {
     "name": "stdout",
     "output_type": "stream",
     "text": [
      "(891, 12)\n"
     ]
    },
    {
     "data": {
      "text/html": [
       "<div>\n",
       "<style scoped>\n",
       "    .dataframe tbody tr th:only-of-type {\n",
       "        vertical-align: middle;\n",
       "    }\n",
       "\n",
       "    .dataframe tbody tr th {\n",
       "        vertical-align: top;\n",
       "    }\n",
       "\n",
       "    .dataframe thead th {\n",
       "        text-align: right;\n",
       "    }\n",
       "</style>\n",
       "<table border=\"1\" class=\"dataframe\">\n",
       "  <thead>\n",
       "    <tr style=\"text-align: right;\">\n",
       "      <th></th>\n",
       "      <th>PassengerId</th>\n",
       "      <th>Survived</th>\n",
       "      <th>Pclass</th>\n",
       "      <th>Name</th>\n",
       "      <th>Sex</th>\n",
       "      <th>Age</th>\n",
       "      <th>SibSp</th>\n",
       "      <th>Parch</th>\n",
       "      <th>Ticket</th>\n",
       "      <th>Fare</th>\n",
       "      <th>Cabin</th>\n",
       "      <th>Embarked</th>\n",
       "    </tr>\n",
       "  </thead>\n",
       "  <tbody>\n",
       "    <tr>\n",
       "      <th>0</th>\n",
       "      <td>1</td>\n",
       "      <td>0</td>\n",
       "      <td>3</td>\n",
       "      <td>Braund, Mr. Owen Harris</td>\n",
       "      <td>male</td>\n",
       "      <td>22.0</td>\n",
       "      <td>1</td>\n",
       "      <td>0</td>\n",
       "      <td>A/5 21171</td>\n",
       "      <td>7.2500</td>\n",
       "      <td>NaN</td>\n",
       "      <td>S</td>\n",
       "    </tr>\n",
       "    <tr>\n",
       "      <th>1</th>\n",
       "      <td>2</td>\n",
       "      <td>1</td>\n",
       "      <td>1</td>\n",
       "      <td>Cumings, Mrs. John Bradley (Florence Briggs Th...</td>\n",
       "      <td>female</td>\n",
       "      <td>38.0</td>\n",
       "      <td>1</td>\n",
       "      <td>0</td>\n",
       "      <td>PC 17599</td>\n",
       "      <td>71.2833</td>\n",
       "      <td>C85</td>\n",
       "      <td>C</td>\n",
       "    </tr>\n",
       "    <tr>\n",
       "      <th>2</th>\n",
       "      <td>3</td>\n",
       "      <td>1</td>\n",
       "      <td>3</td>\n",
       "      <td>Heikkinen, Miss. Laina</td>\n",
       "      <td>female</td>\n",
       "      <td>26.0</td>\n",
       "      <td>0</td>\n",
       "      <td>0</td>\n",
       "      <td>STON/O2. 3101282</td>\n",
       "      <td>7.9250</td>\n",
       "      <td>NaN</td>\n",
       "      <td>S</td>\n",
       "    </tr>\n",
       "    <tr>\n",
       "      <th>3</th>\n",
       "      <td>4</td>\n",
       "      <td>1</td>\n",
       "      <td>1</td>\n",
       "      <td>Futrelle, Mrs. Jacques Heath (Lily May Peel)</td>\n",
       "      <td>female</td>\n",
       "      <td>35.0</td>\n",
       "      <td>1</td>\n",
       "      <td>0</td>\n",
       "      <td>113803</td>\n",
       "      <td>53.1000</td>\n",
       "      <td>C123</td>\n",
       "      <td>S</td>\n",
       "    </tr>\n",
       "    <tr>\n",
       "      <th>4</th>\n",
       "      <td>5</td>\n",
       "      <td>0</td>\n",
       "      <td>3</td>\n",
       "      <td>Allen, Mr. William Henry</td>\n",
       "      <td>male</td>\n",
       "      <td>35.0</td>\n",
       "      <td>0</td>\n",
       "      <td>0</td>\n",
       "      <td>373450</td>\n",
       "      <td>8.0500</td>\n",
       "      <td>NaN</td>\n",
       "      <td>S</td>\n",
       "    </tr>\n",
       "  </tbody>\n",
       "</table>\n",
       "</div>"
      ],
      "text/plain": [
       "   PassengerId  Survived  Pclass  \\\n",
       "0            1         0       3   \n",
       "1            2         1       1   \n",
       "2            3         1       3   \n",
       "3            4         1       1   \n",
       "4            5         0       3   \n",
       "\n",
       "                                                Name     Sex   Age  SibSp  \\\n",
       "0                            Braund, Mr. Owen Harris    male  22.0      1   \n",
       "1  Cumings, Mrs. John Bradley (Florence Briggs Th...  female  38.0      1   \n",
       "2                             Heikkinen, Miss. Laina  female  26.0      0   \n",
       "3       Futrelle, Mrs. Jacques Heath (Lily May Peel)  female  35.0      1   \n",
       "4                           Allen, Mr. William Henry    male  35.0      0   \n",
       "\n",
       "   Parch            Ticket     Fare Cabin Embarked  \n",
       "0      0         A/5 21171   7.2500   NaN        S  \n",
       "1      0          PC 17599  71.2833   C85        C  \n",
       "2      0  STON/O2. 3101282   7.9250   NaN        S  \n",
       "3      0            113803  53.1000  C123        S  \n",
       "4      0            373450   8.0500   NaN        S  "
      ]
     },
     "execution_count": 3,
     "metadata": {},
     "output_type": "execute_result"
    }
   ],
   "source": [
    "print(df.shape)\n",
    "df.head(5)"
   ]
  },
  {
   "cell_type": "code",
   "execution_count": 5,
   "metadata": {},
   "outputs": [
    {
     "data": {
      "text/plain": [
       "PassengerId      0\n",
       "Survived         0\n",
       "Pclass           0\n",
       "Name             0\n",
       "Sex              0\n",
       "Age            177\n",
       "SibSp            0\n",
       "Parch            0\n",
       "Ticket           0\n",
       "Fare             0\n",
       "Cabin          687\n",
       "Embarked         2\n",
       "dtype: int64"
      ]
     },
     "execution_count": 5,
     "metadata": {},
     "output_type": "execute_result"
    }
   ],
   "source": [
    "df.isnull().sum()\n"
   ]
  },
  {
   "cell_type": "code",
   "execution_count": 7,
   "metadata": {},
   "outputs": [],
   "source": [
    "X = df.values"
   ]
  },
  {
   "cell_type": "code",
   "execution_count": 8,
   "metadata": {},
   "outputs": [
    {
     "data": {
      "text/plain": [
       "array([[1, 0, 3, ..., 7.25, nan, 'S'],\n",
       "       [2, 1, 1, ..., 71.2833, 'C85', 'C'],\n",
       "       [3, 1, 3, ..., 7.925, nan, 'S'],\n",
       "       ...,\n",
       "       [889, 0, 3, ..., 23.45, nan, 'S'],\n",
       "       [890, 1, 1, ..., 30.0, 'C148', 'C'],\n",
       "       [891, 0, 3, ..., 7.75, nan, 'Q']], dtype=object)"
      ]
     },
     "execution_count": 8,
     "metadata": {},
     "output_type": "execute_result"
    }
   ],
   "source": [
    "from sklearn.impute import SimpleImputer\n",
    "age = SimpleImputer(np.nan, strategy = 'mean')\n",
    "X[:, 5] = age.fit_transform(X[:, 5].reshape(-1, 1)).ravel()\n",
    "X"
   ]
  },
  {
   "cell_type": "code",
   "execution_count": 9,
   "metadata": {},
   "outputs": [
    {
     "data": {
      "text/plain": [
       "array([[1, 0, 3, ..., 7.25, 'B96 B98', 'S'],\n",
       "       [2, 1, 1, ..., 71.2833, 'C85', 'C'],\n",
       "       [3, 1, 3, ..., 7.925, 'B96 B98', 'S'],\n",
       "       ...,\n",
       "       [889, 0, 3, ..., 23.45, 'B96 B98', 'S'],\n",
       "       [890, 1, 1, ..., 30.0, 'C148', 'C'],\n",
       "       [891, 0, 3, ..., 7.75, 'B96 B98', 'Q']], dtype=object)"
      ]
     },
     "execution_count": 9,
     "metadata": {},
     "output_type": "execute_result"
    }
   ],
   "source": [
    "from sklearn.impute import SimpleImputer\n",
    "cabin = SimpleImputer(np.nan, strategy = 'most_frequent')\n",
    "X[:, 10] = cabin.fit_transform(X[:, 10].reshape(-1, 1)).ravel()\n",
    "X"
   ]
  },
  {
   "cell_type": "code",
   "execution_count": 11,
   "metadata": {},
   "outputs": [
    {
     "data": {
      "text/plain": [
       "array([[1, 0, 3, ..., 7.25, 'B96 B98', 'S'],\n",
       "       [2, 1, 1, ..., 71.2833, 'C85', 'C'],\n",
       "       [3, 1, 3, ..., 7.925, 'B96 B98', 'S'],\n",
       "       ...,\n",
       "       [889, 0, 3, ..., 23.45, 'B96 B98', 'S'],\n",
       "       [890, 1, 1, ..., 30.0, 'C148', 'C'],\n",
       "       [891, 0, 3, ..., 7.75, 'B96 B98', 'Q']], dtype=object)"
      ]
     },
     "execution_count": 11,
     "metadata": {},
     "output_type": "execute_result"
    }
   ],
   "source": [
    "from sklearn.impute import SimpleImputer\n",
    "Embarked = SimpleImputer(np.nan, strategy = 'most_frequent') \n",
    "X[:, 11] = Embarked.fit_transform(X[:, 11].reshape(-1, 1)).ravel()\n",
    "X"
   ]
  },
  {
   "cell_type": "code",
   "execution_count": 12,
   "metadata": {},
   "outputs": [
    {
     "data": {
      "text/plain": [
       "PassengerId    0\n",
       "Survived       0\n",
       "Pclass         0\n",
       "Name           0\n",
       "Sex            0\n",
       "Age            0\n",
       "SibSp          0\n",
       "Parch          0\n",
       "Ticket         0\n",
       "Fare           0\n",
       "Cabin          0\n",
       "Embarked       0\n",
       "dtype: int64"
      ]
     },
     "execution_count": 12,
     "metadata": {},
     "output_type": "execute_result"
    }
   ],
   "source": [
    "df = pd.DataFrame.from_records(X, columns = df.columns)\n",
    "df.isnull().sum()"
   ]
  },
  {
   "cell_type": "markdown",
   "metadata": {},
   "source": [
    "# Chuẩn hoá dữ liệu"
   ]
  },
  {
   "cell_type": "code",
   "execution_count": 13,
   "metadata": {},
   "outputs": [
    {
     "data": {
      "text/plain": [
       "array([[1, 0, 3, ..., 7.25, 'B96 B98', 'S'],\n",
       "       [2, 1, 1, ..., 71.2833, 'C85', 'C'],\n",
       "       [3, 1, 3, ..., 7.925, 'B96 B98', 'S'],\n",
       "       ...,\n",
       "       [889, 0, 3, ..., 23.45, 'B96 B98', 'S'],\n",
       "       [890, 1, 1, ..., 30.0, 'C148', 'C'],\n",
       "       [891, 0, 3, ..., 7.75, 'B96 B98', 'Q']], dtype=object)"
      ]
     },
     "execution_count": 13,
     "metadata": {},
     "output_type": "execute_result"
    }
   ],
   "source": [
    "X"
   ]
  },
  {
   "cell_type": "code",
   "execution_count": 14,
   "metadata": {},
   "outputs": [
    {
     "name": "stderr",
     "output_type": "stream",
     "text": [
      "C:\\Users\\lexua\\Anaconda3\\lib\\site-packages\\sklearn\\utils\\validation.py:595: DataConversionWarning: Data with input dtype object was converted to float64 by MinMaxScaler.\n",
      "  warnings.warn(msg, DataConversionWarning)\n"
     ]
    },
    {
     "data": {
      "text/plain": [
       "array([[1, 0, 3, ..., 0.014151057562208049, 'B96 B98', 'S'],\n",
       "       [2, 1, 1, ..., 0.13913573538264068, 'C85', 'C'],\n",
       "       [3, 1, 3, ..., 0.015468569817999833, 'B96 B98', 'S'],\n",
       "       ...,\n",
       "       [889, 0, 3, ..., 0.04577135170121086, 'B96 B98', 'S'],\n",
       "       [890, 1, 1, ..., 0.05855610025741262, 'C148', 'C'],\n",
       "       [891, 0, 3, ..., 0.015126992566498259, 'B96 B98', 'Q']],\n",
       "      dtype=object)"
      ]
     },
     "execution_count": 14,
     "metadata": {},
     "output_type": "execute_result"
    }
   ],
   "source": [
    "from sklearn.preprocessing import StandardScaler, MinMaxScaler\n",
    "fare_minmax_scaler = MinMaxScaler()\n",
    "X[:, 9] = fare_minmax_scaler.fit_transform(X[:, 9].reshape(-1, 1)).ravel()\n",
    "X"
   ]
  },
  {
   "cell_type": "code",
   "execution_count": 20,
   "metadata": {},
   "outputs": [
    {
     "data": {
      "text/plain": [
       "array([[1, 0, 3, ..., 0.014151057562208049, 'B96 B98', 'S'],\n",
       "       [2, 1, 1, ..., 0.13913573538264068, 'C85', 'C'],\n",
       "       [3, 1, 3, ..., 0.015468569817999833, 'B96 B98', 'S'],\n",
       "       ...,\n",
       "       [889, 0, 3, ..., 0.04577135170121086, 'B96 B98', 'S'],\n",
       "       [890, 1, 1, ..., 0.05855610025741262, 'C148', 'C'],\n",
       "       [891, 0, 3, ..., 0.015126992566498259, 'B96 B98', 'Q']],\n",
       "      dtype=object)"
      ]
     },
     "execution_count": 20,
     "metadata": {},
     "output_type": "execute_result"
    }
   ],
   "source": [
    "from sklearn.preprocessing import  LabelEncoder\n",
    "sex_label_encoder = LabelEncoder()\n",
    "X[:, 4] = sex_label_encoder.fit_transform(X[:, 4])\n",
    "X"
   ]
  },
  {
   "cell_type": "code",
   "execution_count": 16,
   "metadata": {},
   "outputs": [
    {
     "name": "stderr",
     "output_type": "stream",
     "text": [
      "C:\\Users\\lexua\\Anaconda3\\lib\\site-packages\\sklearn\\utils\\validation.py:595: DataConversionWarning: Data with input dtype object was converted to float64 by MinMaxScaler.\n",
      "  warnings.warn(msg, DataConversionWarning)\n"
     ]
    },
    {
     "data": {
      "text/plain": [
       "array([[1, 0, 3, ..., 0.014151057562208049, 'B96 B98', 'S'],\n",
       "       [2, 1, 1, ..., 0.13913573538264068, 'C85', 'C'],\n",
       "       [3, 1, 3, ..., 0.015468569817999833, 'B96 B98', 'S'],\n",
       "       ...,\n",
       "       [889, 0, 3, ..., 0.04577135170121086, 'B96 B98', 'S'],\n",
       "       [890, 1, 1, ..., 0.05855610025741262, 'C148', 'C'],\n",
       "       [891, 0, 3, ..., 0.015126992566498259, 'B96 B98', 'Q']],\n",
       "      dtype=object)"
      ]
     },
     "execution_count": 16,
     "metadata": {},
     "output_type": "execute_result"
    }
   ],
   "source": [
    "age_minmax_scaler = MinMaxScaler()\n",
    "X[:, 5] = age_minmax_scaler.fit_transform(X[:, 5].reshape(-1, 1)).ravel()\n",
    "X"
   ]
  },
  {
   "cell_type": "code",
   "execution_count": 21,
   "metadata": {},
   "outputs": [
    {
     "data": {
      "text/plain": [
       "array([[1, 0, 3, ..., 0.0, 0.0, 1.0],\n",
       "       [2, 1, 1, ..., 1.0, 0.0, 0.0],\n",
       "       [3, 1, 3, ..., 0.0, 0.0, 1.0],\n",
       "       ...,\n",
       "       [889, 0, 3, ..., 0.0, 0.0, 1.0],\n",
       "       [890, 1, 1, ..., 1.0, 0.0, 0.0],\n",
       "       [891, 0, 3, ..., 0.0, 1.0, 0.0]], dtype=object)"
      ]
     },
     "execution_count": 21,
     "metadata": {},
     "output_type": "execute_result"
    }
   ],
   "source": [
    "from sklearn.preprocessing import OneHotEncoder\n",
    "embarked_onehot = OneHotEncoder()\n",
    "embarked = embarked_onehot.fit_transform(X[:, 11].reshape(-1, 1)).toarray()\n",
    "X = np.delete(X, 11, axis = 1)\n",
    "X = np.concatenate((X, embarked), axis = 1)\n",
    "X"
   ]
  },
  {
   "cell_type": "code",
   "execution_count": 22,
   "metadata": {},
   "outputs": [
    {
     "data": {
      "text/plain": [
       "array([[1, 0, 3, ..., 0.0, 0.0, 1.0],\n",
       "       [2, 1, 1, ..., 1.0, 0.0, 0.0],\n",
       "       [3, 1, 3, ..., 0.0, 0.0, 1.0],\n",
       "       ...,\n",
       "       [889, 0, 3, ..., 0.0, 0.0, 1.0],\n",
       "       [890, 1, 1, ..., 1.0, 0.0, 0.0],\n",
       "       [891, 0, 3, ..., 0.0, 1.0, 0.0]], dtype=object)"
      ]
     },
     "execution_count": 22,
     "metadata": {},
     "output_type": "execute_result"
    }
   ],
   "source": [
    "from sklearn.preprocessing import  LabelEncoder\n",
    "name_label_encoder = LabelEncoder()\n",
    "X[:, 3] = name_label_encoder.fit_transform(X[:, 3])\n",
    "X"
   ]
  },
  {
   "cell_type": "code",
   "execution_count": 23,
   "metadata": {},
   "outputs": [
    {
     "data": {
      "text/plain": [
       "array([[1, 0, 3, ..., 0.0, 0.0, 1.0],\n",
       "       [2, 1, 1, ..., 1.0, 0.0, 0.0],\n",
       "       [3, 1, 3, ..., 0.0, 0.0, 1.0],\n",
       "       ...,\n",
       "       [889, 0, 3, ..., 0.0, 0.0, 1.0],\n",
       "       [890, 1, 1, ..., 1.0, 0.0, 0.0],\n",
       "       [891, 0, 3, ..., 0.0, 1.0, 0.0]], dtype=object)"
      ]
     },
     "execution_count": 23,
     "metadata": {},
     "output_type": "execute_result"
    }
   ],
   "source": [
    "from sklearn.preprocessing import  LabelEncoder\n",
    "cabin_label_encoder = LabelEncoder()\n",
    "X[:, 10] = cabin_label_encoder.fit_transform(X[:, 10])\n",
    "X"
   ]
  },
  {
   "cell_type": "code",
   "execution_count": 24,
   "metadata": {},
   "outputs": [
    {
     "data": {
      "text/plain": [
       "array([[1, 0, 3, ..., 0.0, 0.0, 1.0],\n",
       "       [2, 1, 1, ..., 1.0, 0.0, 0.0],\n",
       "       [3, 1, 3, ..., 0.0, 0.0, 1.0],\n",
       "       ...,\n",
       "       [889, 0, 3, ..., 0.0, 0.0, 1.0],\n",
       "       [890, 1, 1, ..., 1.0, 0.0, 0.0],\n",
       "       [891, 0, 3, ..., 0.0, 1.0, 0.0]], dtype=object)"
      ]
     },
     "execution_count": 24,
     "metadata": {},
     "output_type": "execute_result"
    }
   ],
   "source": [
    "from sklearn.preprocessing import  LabelEncoder\n",
    "ticket_label_encoder = LabelEncoder()\n",
    "X[:, 8] = ticket_label_encoder.fit_transform(X[:, 8])\n",
    "X"
   ]
  }
 ],
 "metadata": {
  "kernelspec": {
   "display_name": "Python 3",
   "language": "python",
   "name": "python3"
  },
  "language_info": {
   "codemirror_mode": {
    "name": "ipython",
    "version": 3
   },
   "file_extension": ".py",
   "mimetype": "text/x-python",
   "name": "python",
   "nbconvert_exporter": "python",
   "pygments_lexer": "ipython3",
   "version": "3.7.3"
  }
 },
 "nbformat": 4,
 "nbformat_minor": 2
}
