{
 "cells": [
  {
   "cell_type": "code",
   "execution_count": 1,
   "metadata": {},
   "outputs": [],
   "source": [
    "import numpy as np"
   ]
  },
  {
   "cell_type": "code",
   "execution_count": 4,
   "metadata": {},
   "outputs": [
    {
     "data": {
      "text/plain": [
       "array([0., 0., 0., 0., 0., 0., 0., 0., 0., 0.])"
      ]
     },
     "execution_count": 4,
     "metadata": {},
     "output_type": "execute_result"
    }
   ],
   "source": [
    "#vector 0\n",
    "vector = np.zeros(10)\n",
    "vector"
   ]
  },
  {
   "cell_type": "code",
   "execution_count": 5,
   "metadata": {},
   "outputs": [
    {
     "data": {
      "text/plain": [
       "array([0., 0., 0., 0., 0., 1., 0., 0., 0., 0.])"
      ]
     },
     "execution_count": 5,
     "metadata": {},
     "output_type": "execute_result"
    }
   ],
   "source": [
    "#thay doi gia tri\n",
    "vector[5] = 1\n",
    "vector"
   ]
  },
  {
   "cell_type": "code",
   "execution_count": 9,
   "metadata": {},
   "outputs": [
    {
     "data": {
      "text/plain": [
       "array([19, 16, 27, 42, 14, 18, 39, 32, 47, 29])"
      ]
     },
     "execution_count": 9,
     "metadata": {},
     "output_type": "execute_result"
    }
   ],
   "source": [
    "#radom vector tu 10 den 50\n",
    "vector = np.random.randint(10, 50, size=10)\n",
    "vector"
   ]
  },
  {
   "cell_type": "code",
   "execution_count": 10,
   "metadata": {},
   "outputs": [
    {
     "data": {
      "text/plain": [
       "[6, 5, 4, 3, 2, 1]"
      ]
     },
     "execution_count": 10,
     "metadata": {},
     "output_type": "execute_result"
    }
   ],
   "source": [
    "#dao vector\n",
    "vector = [1, 2, 3, 4, 5, 6]\n",
    "vector[::-1]"
   ]
  },
  {
   "cell_type": "code",
   "execution_count": 13,
   "metadata": {},
   "outputs": [
    {
     "data": {
      "text/plain": [
       "array([[1., 0., 0.],\n",
       "       [0., 1., 0.],\n",
       "       [0., 0., 1.]])"
      ]
     },
     "execution_count": 13,
     "metadata": {},
     "output_type": "execute_result"
    }
   ],
   "source": [
    "#ma tran don vi\n",
    "matran = np.identity(3)\n",
    "matran"
   ]
  },
  {
   "cell_type": "code",
   "execution_count": 18,
   "metadata": {},
   "outputs": [
    {
     "data": {
      "text/plain": [
       "array([[90, 63, 94],\n",
       "       [50, 94, 84],\n",
       "       [47,  2, 64]])"
      ]
     },
     "execution_count": 18,
     "metadata": {},
     "output_type": "execute_result"
    }
   ],
   "source": [
    "#ma tran 3x3 ramdom\n",
    "matran = np.random.randint(1, 100, size=(3,3))\n",
    "matran"
   ]
  },
  {
   "cell_type": "code",
   "execution_count": 21,
   "metadata": {},
   "outputs": [
    {
     "name": "stdout",
     "output_type": "stream",
     "text": [
      "[[17 10 46 60  1 75 22  3 12 41]\n",
      " [36 31 79 49 53  1 78 81 84  4]\n",
      " [20 57 89 46 23 54 70 92 59 58]\n",
      " [26 81 71  8  6 83 62 59 67 48]\n",
      " [26 54 82 61 37 21 31 16 22 27]\n",
      " [66 36 36 79 14 96 77 31 66 44]\n",
      " [89 88 38 27 53 81 77 84 39  7]\n",
      " [44 82 36 44 40  9 66 25 75 51]\n",
      " [91  9 67  9 86 69 52 46 51 24]\n",
      " [57 54 48 44 47 52  8 83 48 67]]\n",
      "1\n",
      "96\n"
     ]
    }
   ],
   "source": [
    "#tao ma tran 10x10 in max min\n",
    "matran = np.random.randint(1, 100, size=(10, 10))\n",
    "print(matran)\n",
    "print(matran.min())\n",
    "print(matran.max())"
   ]
  },
  {
   "cell_type": "code",
   "execution_count": 24,
   "metadata": {},
   "outputs": [
    {
     "name": "stdout",
     "output_type": "stream",
     "text": [
      "[78 25 74 76 72  6 61 98 65 44 28 11 51 95 95 31 61 70 12 18 62 13 72  7\n",
      " 10 71  2 59 23  6]\n",
      "46.53333333333333\n"
     ]
    }
   ],
   "source": [
    "#tao vector 30 radom 1 den 100 in tb\n",
    "vector = np.random.randint(1, 100, size=30)\n",
    "print(vector)\n",
    "print(vector.mean())"
   ]
  },
  {
   "cell_type": "code",
   "execution_count": 39,
   "metadata": {
    "scrolled": true
   },
   "outputs": [
    {
     "name": "stdout",
     "output_type": "stream",
     "text": [
      "[[0. 0. 0. 0. 0.]\n",
      " [0. 0. 0. 0. 0.]\n",
      " [0. 0. 0. 0. 0.]\n",
      " [0. 0. 0. 0. 0.]\n",
      " [0. 0. 0. 0. 0.]]\n",
      "[[1. 1. 1. 1. 1. 1. 1.]\n",
      " [1. 0. 0. 0. 0. 0. 1.]\n",
      " [1. 0. 0. 0. 0. 0. 1.]\n",
      " [1. 0. 0. 0. 0. 0. 1.]\n",
      " [1. 0. 0. 0. 0. 0. 1.]\n",
      " [1. 0. 0. 0. 0. 0. 1.]\n",
      " [1. 1. 1. 1. 1. 1. 1.]]\n"
     ]
    }
   ],
   "source": [
    "#tạo boder cho matran\n",
    "matran = np.zeros((5,5))\n",
    "matran1 = np.ones((np.shape(matran)[0] + 2, np.shape(matran)[1] + 2))\n",
    "print(matran)\n",
    "#print(matran1)\n",
    "matran1[1:-1,1:-1] = matran\n",
    "print(matran1)"
   ]
  },
  {
   "cell_type": "code",
   "execution_count": 41,
   "metadata": {},
   "outputs": [
    {
     "name": "stdout",
     "output_type": "stream",
     "text": [
      "[[16 28 49 46 23 11 10]\n",
      " [18 34 20 39 29 35 37]\n",
      " [46 36 48 38 10 29 38]\n",
      " [37 13 49 27 48 44 39]\n",
      " [19 32 41 37 12 31 11]\n",
      " [13 37 38 33 47 29 49]]\n",
      "[[ 0.  0.  0.  0.  0.  0.  0.  0.  0.]\n",
      " [ 0. 16. 28. 49. 46. 23. 11. 10.  0.]\n",
      " [ 0. 18. 34. 20. 39. 29. 35. 37.  0.]\n",
      " [ 0. 46. 36. 48. 38. 10. 29. 38.  0.]\n",
      " [ 0. 37. 13. 49. 27. 48. 44. 39.  0.]\n",
      " [ 0. 19. 32. 41. 37. 12. 31. 11.  0.]\n",
      " [ 0. 13. 37. 38. 33. 47. 29. 49.  0.]\n",
      " [ 0.  0.  0.  0.  0.  0.  0.  0.  0.]]\n"
     ]
    }
   ],
   "source": [
    "#tạo boder cho matran\n",
    "matran = np.random.randint(10,50, size=(6,7))\n",
    "matran1 = np.zeros((np.shape(matran)[0] + 2, np.shape(matran)[1] + 2))\n",
    "print(matran)\n",
    "#print(matran1)\n",
    "matran1[1:-1,1:-1] = matran\n",
    "print(matran1)"
   ]
  },
  {
   "cell_type": "code",
   "execution_count": 17,
   "metadata": {},
   "outputs": [
    {
     "data": {
      "text/plain": [
       "array([[0., 0., 0., 0., 0.],\n",
       "       [1., 0., 0., 0., 0.],\n",
       "       [0., 2., 0., 0., 0.],\n",
       "       [0., 0., 3., 0., 0.],\n",
       "       [0., 0., 0., 4., 0.]])"
      ]
     },
     "execution_count": 17,
     "metadata": {},
     "output_type": "execute_result"
    }
   ],
   "source": [
    "import numpy as np\n",
    "matran = np.zeros((5,5))\n",
    "n = len(matran[0])\n",
    "for i in range(n-1):\n",
    "    matran[i+1, i] = i+1\n",
    "matran"
   ]
  },
  {
   "cell_type": "code",
   "execution_count": 71,
   "metadata": {},
   "outputs": [
    {
     "name": "stdout",
     "output_type": "stream",
     "text": [
      "[2 6 3 7 5 7 1 1 8 7]\n",
      "[1 1 2 3 5 6 7 7 7 8]\n",
      "[8 7 7 7 6 5 3 2 1 1]\n"
     ]
    }
   ],
   "source": [
    "vector = np.random.randint(1,10,10)\n",
    "print(vector)\n",
    "print(np.sort(vector))\n",
    "print(-np.sort(-vector))"
   ]
  },
  {
   "cell_type": "code",
   "execution_count": 77,
   "metadata": {},
   "outputs": [
    {
     "data": {
      "text/plain": [
       "array([0.78281119, 0.09753029, 0.28276271, 0.39771083, 0.61731034,\n",
       "       0.0860587 , 0.91264728, 0.68054304, 0.94989107, 0.68037142])"
      ]
     },
     "execution_count": 77,
     "metadata": {},
     "output_type": "execute_result"
    }
   ],
   "source": [
    "vector = np.random.random(10)\n",
    "vector"
   ]
  }
 ],
 "metadata": {
  "kernelspec": {
   "display_name": "Python 3",
   "language": "python",
   "name": "python3"
  },
  "language_info": {
   "codemirror_mode": {
    "name": "ipython",
    "version": 3
   },
   "file_extension": ".py",
   "mimetype": "text/x-python",
   "name": "python",
   "nbconvert_exporter": "python",
   "pygments_lexer": "ipython3",
   "version": "3.7.3"
  }
 },
 "nbformat": 4,
 "nbformat_minor": 2
}
