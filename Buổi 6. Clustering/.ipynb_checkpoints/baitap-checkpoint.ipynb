{
 "cells": [
  {
   "cell_type": "code",
   "execution_count": 119,
   "metadata": {},
   "outputs": [],
   "source": [
    "import pandas as pd\n",
    "import matplotlib.pyplot as plt\n",
    "import numpy as np\n",
    "from sklearn.preprocessing import MinMaxScaler"
   ]
  },
  {
   "cell_type": "code",
   "execution_count": 120,
   "metadata": {},
   "outputs": [
    {
     "data": {
      "text/html": [
       "<div>\n",
       "<style scoped>\n",
       "    .dataframe tbody tr th:only-of-type {\n",
       "        vertical-align: middle;\n",
       "    }\n",
       "\n",
       "    .dataframe tbody tr th {\n",
       "        vertical-align: top;\n",
       "    }\n",
       "\n",
       "    .dataframe thead th {\n",
       "        text-align: right;\n",
       "    }\n",
       "</style>\n",
       "<table border=\"1\" class=\"dataframe\">\n",
       "  <thead>\n",
       "    <tr style=\"text-align: right;\">\n",
       "      <th></th>\n",
       "      <th>Annual Income (k$)</th>\n",
       "      <th>Spending Score (1-100)</th>\n",
       "    </tr>\n",
       "  </thead>\n",
       "  <tbody>\n",
       "    <tr>\n",
       "      <th>0</th>\n",
       "      <td>15</td>\n",
       "      <td>39</td>\n",
       "    </tr>\n",
       "    <tr>\n",
       "      <th>1</th>\n",
       "      <td>15</td>\n",
       "      <td>81</td>\n",
       "    </tr>\n",
       "    <tr>\n",
       "      <th>2</th>\n",
       "      <td>16</td>\n",
       "      <td>6</td>\n",
       "    </tr>\n",
       "    <tr>\n",
       "      <th>3</th>\n",
       "      <td>16</td>\n",
       "      <td>77</td>\n",
       "    </tr>\n",
       "    <tr>\n",
       "      <th>4</th>\n",
       "      <td>17</td>\n",
       "      <td>40</td>\n",
       "    </tr>\n",
       "  </tbody>\n",
       "</table>\n",
       "</div>"
      ],
      "text/plain": [
       "   Annual Income (k$)  Spending Score (1-100)\n",
       "0                  15                      39\n",
       "1                  15                      81\n",
       "2                  16                       6\n",
       "3                  16                      77\n",
       "4                  17                      40"
      ]
     },
     "execution_count": 120,
     "metadata": {},
     "output_type": "execute_result"
    }
   ],
   "source": [
    "df = pd.read_csv(\"baitap.csv\")\n",
    "\n",
    "X = df.values\n",
    "df.head(5)"
   ]
  },
  {
   "cell_type": "markdown",
   "metadata": {},
   "source": [
    "# Chuan hoa du lieu"
   ]
  },
  {
   "cell_type": "code",
   "execution_count": 121,
   "metadata": {},
   "outputs": [],
   "source": [
    "X = X.astype('float64')\n",
    "minmax_scaler = MinMaxScaler()\n",
    "X[:, 0] = minmax_scaler.fit_transform(X[:, 0].reshape(-1, 1)).ravel()\n",
    "X[:, 1] = minmax_scaler.fit_transform(X[:, 1].reshape(-1, 1)).ravel()\n",
    "new_df = pd.DataFrame.from_records(X, columns=['Annual Income (k$)', 'Spending Score (1-100)'])"
   ]
  },
  {
   "cell_type": "code",
   "execution_count": 122,
   "metadata": {},
   "outputs": [],
   "source": [
    "K=5"
   ]
  },
  {
   "cell_type": "code",
   "execution_count": 123,
   "metadata": {},
   "outputs": [
    {
     "data": {
      "text/plain": [
       "{0: array([0.45901639, 0.95918367]),\n",
       " 1: array([0.18032787, 0.25510204]),\n",
       " 2: array([0.51639344, 0.78571429]),\n",
       " 3: array([0.25409836, 0.51020408]),\n",
       " 4: array([0.36065574, 0.40816327])}"
      ]
     },
     "execution_count": 123,
     "metadata": {},
     "output_type": "execute_result"
    }
   ],
   "source": [
    "def create_centers(X):\n",
    "    indicates = np.random.randint(0, len(X), size=K)\n",
    "    initial_centers = X[indicates]\n",
    "    return initial_centers\n",
    "\n",
    "centers = create_centers(X)\n",
    "centers = {i: value for i, value in enumerate(centers)}\n",
    "centers"
   ]
  },
  {
   "cell_type": "code",
   "execution_count": 124,
   "metadata": {},
   "outputs": [
    {
     "data": {
      "text/plain": [
       "{0: array([0.08326143, 0.82438238]),\n",
       " 1: array([0.09265859, 0.20319432]),\n",
       " 2: array([0.58638083, 0.82783883]),\n",
       " 3: array([0.31704108, 0.50554296]),\n",
       " 4: array([0.59016393, 0.17991407])}"
      ]
     },
     "execution_count": 124,
     "metadata": {},
     "output_type": "execute_result"
    }
   ],
   "source": [
    "import copy\n",
    "\n",
    "def fit(X, max_iter, epsilon, centers):\n",
    "    count = 0\n",
    "    while count < max_iter:\n",
    "        features = {cluster: [] for cluster in range(K)}\n",
    "        for x in X:\n",
    "            distances = [np.linalg.norm(x - centers[center]) for center in centers]\n",
    "            nearest = np.argmin(distances)\n",
    "            features[nearest].append(x)\n",
    "            \n",
    "        old_centers = copy.deepcopy(centers)\n",
    "        is_optimal = False\n",
    "        for center in centers:\n",
    "            centers[center] = np.mean(features[center], axis=0)\n",
    "            if np.abs(centers[center] - old_centers[center]).all() < epsilon:\n",
    "                is_optimal = True\n",
    "    \n",
    "        if is_optimal:\n",
    "            break \n",
    "        count+=1\n",
    "    return centers\n",
    "\n",
    "centers = fit(X, max_iter=100, epsilon=1e-4, centers=centers)\n",
    "centers"
   ]
  },
  {
   "cell_type": "code",
   "execution_count": 125,
   "metadata": {},
   "outputs": [
    {
     "data": {
      "image/png": "[encoded data removed]",
      "text/plain": [
       "<Figure size 432x288 with 1 Axes>"
      ]
     },
     "metadata": {
      "needs_background": "light"
     },
     "output_type": "display_data"
    }
   ],
   "source": [
    "def plot(df):\n",
    "    plt.scatter(x=df['Annual Income (k$)'], y=df['Spending Score (1-100)'], color='red', edgecolor='none')\n",
    "\n",
    "def plot_result(centers, df):\n",
    "    plot(df)\n",
    "    plt.plot(centers[0][0], centers[0][1], 'b^', markersize = 20, alpha = .8)\n",
    "    plt.plot(centers[1][0], centers[1][1], 'go', markersize = 20, alpha = .8)\n",
    "    plt.plot(centers[2][0], centers[2][1], 'ys', markersize = 20, alpha = .8)\n",
    "    plt.plot(centers[3][0], centers[3][1], 'go', markersize = 20, alpha = .8)\n",
    "    plt.plot(centers[4][0], centers[4][1], 'ys', markersize = 20, alpha = .8)\n",
    "\n",
    "plot_result(centers, new_df)"
   ]
  },
  {
   "cell_type": "markdown",
   "metadata": {},
   "source": [
    "# Su dung thu vien"
   ]
  },
  {
   "cell_type": "code",
   "execution_count": 126,
   "metadata": {},
   "outputs": [
    {
     "data": {
      "text/plain": [
       "KMeans(algorithm='auto', copy_x=True, init='k-means++', max_iter=300,\n",
       "    n_clusters=5, n_init=10, n_jobs=None, precompute_distances='auto',\n",
       "    random_state=None, tol=0.0001, verbose=0)"
      ]
     },
     "execution_count": 126,
     "metadata": {},
     "output_type": "execute_result"
    }
   ],
   "source": [
    "from sklearn.cluster import KMeans\n",
    "\n",
    "cluster = KMeans(n_clusters=K, init='k-means++')\n",
    "cluster.fit(X)"
   ]
  },
  {
   "cell_type": "code",
   "execution_count": 127,
   "metadata": {},
   "outputs": [
    {
     "name": "stdout",
     "output_type": "stream",
     "text": [
      "Score= 0.5594854531227246\n"
     ]
    }
   ],
   "source": [
    "from sklearn.metrics import silhouette_score\n",
    "\n",
    "score = silhouette_score(X, cluster.labels_)\n",
    "print(\"Score=\", score)"
   ]
  },
  {
   "cell_type": "code",
   "execution_count": 128,
   "metadata": {},
   "outputs": [
    {
     "data": {
      "image/png": "[encoded data removed]",
      "text/plain": [
       "<Figure size 432x288 with 1 Axes>"
      ]
     },
     "metadata": {
      "needs_background": "light"
     },
     "output_type": "display_data"
    }
   ],
   "source": [
    "def elbow(X, fixed_k):\n",
    "    distortions = []\n",
    "    for k in fixed_k:\n",
    "        cluster = KMeans(n_clusters=k)\n",
    "        cluster.fit(X)\n",
    "        distortions.append(cluster.inertia_)\n",
    "\n",
    "    plt.plot(fixed_k, distortions, 'x-')\n",
    "    plt.xlabel('k')\n",
    "    plt.ylabel('Distortion')\n",
    "    plt.title('The Elbow method')\n",
    "\n",
    "elbow(X, range(1, 10))"
   ]
  },
  {
   "cell_type": "markdown",
   "metadata": {},
   "source": [
    "# chon k = 5"
   ]
  }
 ],
 "metadata": {
  "kernelspec": {
   "display_name": "Python 3",
   "language": "python",
   "name": "python3"
  },
  "language_info": {
   "codemirror_mode": {
    "name": "ipython",
    "version": 3
   },
   "file_extension": ".py",
   "mimetype": "text/x-python",
   "name": "python",
   "nbconvert_exporter": "python",
   "pygments_lexer": "ipython3",
   "version": "3.7.3"
  }
 },
 "nbformat": 4,
 "nbformat_minor": 2
}
