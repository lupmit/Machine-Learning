{
 "cells": [
  {
   "cell_type": "code",
   "execution_count": 196,
   "metadata": {},
   "outputs": [],
   "source": [
    "import numpy as np"
   ]
  },
  {
   "cell_type": "code",
   "execution_count": 197,
   "metadata": {},
   "outputs": [],
   "source": [
    "def sigmoid(x):\n",
    "    return 1/(1 + np.exp(-x))"
   ]
  },
  {
   "cell_type": "code",
   "execution_count": 198,
   "metadata": {},
   "outputs": [],
   "source": [
    "def loss(y, y_hat):\n",
    "    return -np.sum(np.multiply(y, np.log(y_hat))+np.multiply(1-y, np.log(1-y_hat)))"
   ]
  },
  {
   "cell_type": "code",
   "execution_count": 199,
   "metadata": {},
   "outputs": [],
   "source": [
    "def hypothesis(X, W):\n",
    "    return sigmoid(np.dot(X, W))"
   ]
  },
  {
   "cell_type": "code",
   "execution_count": 200,
   "metadata": {},
   "outputs": [],
   "source": [
    "def GD(X, y, learning_rate=0.0001, iterations=10):\n",
    "    N, m = np.shape(X)\n",
    "    W_init = np.random.randn(m, 1)\n",
    "    W = [W_init]\n",
    "    loss_history = np.zeros(iterations)\n",
    "    for i in range(iterations):\n",
    "        y_hat = hypothesis(X, W[-1])\n",
    "        _loss = loss(y, y_hat)\n",
    "        W_new = W[-1] - learning_rate * np.dot(X.T, (y_hat - y))\n",
    "        W.append(W_new)\n",
    "        loss_history[i] = _loss\n",
    "        if np.linalg.norm(W[-2] - W[-1]) < 1e-3:\n",
    "            break\n",
    "    return W[-1], loss_history"
   ]
  },
  {
   "cell_type": "code",
   "execution_count": 201,
   "metadata": {},
   "outputs": [],
   "source": [
    "def SGD(X, y, learning_rate=0.01, iterations=1000):\n",
    "    N, m = np.shape(X)\n",
    "    W_init = np.random.randn(m, 1)\n",
    "    W = [W_init]\n",
    "    loss_history = np.zeros(iterations)\n",
    "    for i in range(iterations):\n",
    "        _loss = 0.0\n",
    "        # epoch\n",
    "        for index, x in enumerate(X):\n",
    "            x_i = x.reshape(1, -1)\n",
    "            y_i = y[index]\n",
    "            y_hat = hypothesis(x_i, W[-1])\n",
    "            _loss += loss(y_i, y_hat)\n",
    "            W_new = W[-1] - learning_rate * np.dot(x_i.T, (y_hat - y_i))\n",
    "            \n",
    "        W.append(W_new)\n",
    "        loss_history[i] = _loss\n",
    "        if np.linalg.norm(W[-1] - W[-2]) < 1e-3:\n",
    "            break\n",
    "    return W[-1], loss_history\n"
   ]
  },
  {
   "cell_type": "code",
   "execution_count": 202,
   "metadata": {},
   "outputs": [],
   "source": [
    "def get_batchs(X, y, batch_size):\n",
    "    for i in range(0, len(X), batch_size):\n",
    "        x_batch = X[i:i+batch_size]\n",
    "        y_batch = y[i:i+batch_size]\n",
    "        yield x_batch, y_batch\n",
    "    \n",
    "    \n",
    "def Mini_batch(X, y, learning_rate=0.01, iterations=1000, batch_size=28):\n",
    "    N, m = np.shape(X)\n",
    "    W_init = np.random.randn(m, 1)\n",
    "    W = [W_init]\n",
    "    loss_history = np.zeros(iterations)\n",
    "    for i in range(iterations):\n",
    "        _loss = 0.0\n",
    "        # epoch\n",
    "        for x_batch, y_batch in get_batchs(X, y, batch_size):\n",
    "            y_hat = hypothesis(x_batch, W[-1])\n",
    "            _loss += loss(y_batch, y_hat)\n",
    "            W_new = W[-1] - learning_rate * np.dot(x_batch.T, (y_hat - y_batch))\n",
    "        \n",
    "        W.append(W_new) \n",
    "        loss_history[i] = _loss\n",
    "        if np.linalg.norm(W[-2] - W[-1]) < 1e-3:\n",
    "            break   \n",
    "    return W[-1], loss_history"
   ]
  },
  {
   "cell_type": "markdown",
   "metadata": {},
   "source": [
    "## Bài tập"
   ]
  },
  {
   "cell_type": "code",
   "execution_count": 203,
   "metadata": {},
   "outputs": [],
   "source": [
    "import numpy as np\n",
    "import pandas as pd\n",
    "from sklearn.impute import SimpleImputer\n",
    "from sklearn.linear_model import LogisticRegression\n",
    "from sklearn.metrics import accuracy_score"
   ]
  },
  {
   "cell_type": "code",
   "execution_count": 204,
   "metadata": {},
   "outputs": [
    {
     "data": {
      "text/html": [
       "<div>\n",
       "<style scoped>\n",
       "    .dataframe tbody tr th:only-of-type {\n",
       "        vertical-align: middle;\n",
       "    }\n",
       "\n",
       "    .dataframe tbody tr th {\n",
       "        vertical-align: top;\n",
       "    }\n",
       "\n",
       "    .dataframe thead th {\n",
       "        text-align: right;\n",
       "    }\n",
       "</style>\n",
       "<table border=\"1\" class=\"dataframe\">\n",
       "  <thead>\n",
       "    <tr style=\"text-align: right;\">\n",
       "      <th></th>\n",
       "      <th>Pregnancies</th>\n",
       "      <th>Glucose</th>\n",
       "      <th>BloodPressure</th>\n",
       "      <th>SkinThickness</th>\n",
       "      <th>Insulin</th>\n",
       "      <th>BMI</th>\n",
       "      <th>DiabetesPedigreeFunction</th>\n",
       "      <th>Age</th>\n",
       "      <th>Outcome</th>\n",
       "    </tr>\n",
       "  </thead>\n",
       "  <tbody>\n",
       "    <tr>\n",
       "      <th>0</th>\n",
       "      <td>2</td>\n",
       "      <td>84</td>\n",
       "      <td>0.0</td>\n",
       "      <td>0.0</td>\n",
       "      <td>0.0</td>\n",
       "      <td>0.0</td>\n",
       "      <td>0.304</td>\n",
       "      <td>21</td>\n",
       "      <td>0</td>\n",
       "    </tr>\n",
       "    <tr>\n",
       "      <th>1</th>\n",
       "      <td>9</td>\n",
       "      <td>112</td>\n",
       "      <td>82.0</td>\n",
       "      <td>24.0</td>\n",
       "      <td>0.0</td>\n",
       "      <td>28.2</td>\n",
       "      <td>1.282</td>\n",
       "      <td>50</td>\n",
       "      <td>1</td>\n",
       "    </tr>\n",
       "    <tr>\n",
       "      <th>2</th>\n",
       "      <td>1</td>\n",
       "      <td>139</td>\n",
       "      <td>46.0</td>\n",
       "      <td>19.0</td>\n",
       "      <td>83.0</td>\n",
       "      <td>28.7</td>\n",
       "      <td>0.654</td>\n",
       "      <td>22</td>\n",
       "      <td>0</td>\n",
       "    </tr>\n",
       "    <tr>\n",
       "      <th>3</th>\n",
       "      <td>0</td>\n",
       "      <td>161</td>\n",
       "      <td>50.0</td>\n",
       "      <td>0.0</td>\n",
       "      <td>0.0</td>\n",
       "      <td>21.9</td>\n",
       "      <td>0.254</td>\n",
       "      <td>65</td>\n",
       "      <td>0</td>\n",
       "    </tr>\n",
       "    <tr>\n",
       "      <th>4</th>\n",
       "      <td>6</td>\n",
       "      <td>134</td>\n",
       "      <td>80.0</td>\n",
       "      <td>37.0</td>\n",
       "      <td>370.0</td>\n",
       "      <td>46.2</td>\n",
       "      <td>0.238</td>\n",
       "      <td>46</td>\n",
       "      <td>1</td>\n",
       "    </tr>\n",
       "  </tbody>\n",
       "</table>\n",
       "</div>"
      ],
      "text/plain": [
       "   Pregnancies  Glucose  BloodPressure  SkinThickness  Insulin   BMI  \\\n",
       "0            2       84            0.0            0.0      0.0   0.0   \n",
       "1            9      112           82.0           24.0      0.0  28.2   \n",
       "2            1      139           46.0           19.0     83.0  28.7   \n",
       "3            0      161           50.0            0.0      0.0  21.9   \n",
       "4            6      134           80.0           37.0    370.0  46.2   \n",
       "\n",
       "   DiabetesPedigreeFunction  Age  Outcome  \n",
       "0                     0.304   21        0  \n",
       "1                     1.282   50        1  \n",
       "2                     0.654   22        0  \n",
       "3                     0.254   65        0  \n",
       "4                     0.238   46        1  "
      ]
     },
     "execution_count": 204,
     "metadata": {},
     "output_type": "execute_result"
    }
   ],
   "source": [
    "train_df = pd.read_csv('train.csv')\n",
    "train_df.head()"
   ]
  },
  {
   "cell_type": "code",
   "execution_count": 205,
   "metadata": {},
   "outputs": [
    {
     "data": {
      "text/html": [
       "<div>\n",
       "<style scoped>\n",
       "    .dataframe tbody tr th:only-of-type {\n",
       "        vertical-align: middle;\n",
       "    }\n",
       "\n",
       "    .dataframe tbody tr th {\n",
       "        vertical-align: top;\n",
       "    }\n",
       "\n",
       "    .dataframe thead th {\n",
       "        text-align: right;\n",
       "    }\n",
       "</style>\n",
       "<table border=\"1\" class=\"dataframe\">\n",
       "  <thead>\n",
       "    <tr style=\"text-align: right;\">\n",
       "      <th></th>\n",
       "      <th>Pregnancies</th>\n",
       "      <th>Glucose</th>\n",
       "      <th>BloodPressure</th>\n",
       "      <th>SkinThickness</th>\n",
       "      <th>Insulin</th>\n",
       "      <th>BMI</th>\n",
       "      <th>DiabetesPedigreeFunction</th>\n",
       "      <th>Age</th>\n",
       "      <th>Outcome</th>\n",
       "    </tr>\n",
       "  </thead>\n",
       "  <tbody>\n",
       "    <tr>\n",
       "      <th>0</th>\n",
       "      <td>6</td>\n",
       "      <td>98</td>\n",
       "      <td>58.0</td>\n",
       "      <td>33.0</td>\n",
       "      <td>190.0</td>\n",
       "      <td>34.0</td>\n",
       "      <td>0.430</td>\n",
       "      <td>43</td>\n",
       "      <td>0</td>\n",
       "    </tr>\n",
       "    <tr>\n",
       "      <th>1</th>\n",
       "      <td>2</td>\n",
       "      <td>112</td>\n",
       "      <td>75.0</td>\n",
       "      <td>32.0</td>\n",
       "      <td>0.0</td>\n",
       "      <td>35.7</td>\n",
       "      <td>0.148</td>\n",
       "      <td>21</td>\n",
       "      <td>0</td>\n",
       "    </tr>\n",
       "    <tr>\n",
       "      <th>2</th>\n",
       "      <td>2</td>\n",
       "      <td>108</td>\n",
       "      <td>64.0</td>\n",
       "      <td>0.0</td>\n",
       "      <td>0.0</td>\n",
       "      <td>30.8</td>\n",
       "      <td>0.158</td>\n",
       "      <td>21</td>\n",
       "      <td>0</td>\n",
       "    </tr>\n",
       "    <tr>\n",
       "      <th>3</th>\n",
       "      <td>8</td>\n",
       "      <td>107</td>\n",
       "      <td>80.0</td>\n",
       "      <td>0.0</td>\n",
       "      <td>0.0</td>\n",
       "      <td>24.6</td>\n",
       "      <td>0.856</td>\n",
       "      <td>34</td>\n",
       "      <td>0</td>\n",
       "    </tr>\n",
       "    <tr>\n",
       "      <th>4</th>\n",
       "      <td>7</td>\n",
       "      <td>136</td>\n",
       "      <td>90.0</td>\n",
       "      <td>0.0</td>\n",
       "      <td>0.0</td>\n",
       "      <td>29.9</td>\n",
       "      <td>0.210</td>\n",
       "      <td>50</td>\n",
       "      <td>0</td>\n",
       "    </tr>\n",
       "  </tbody>\n",
       "</table>\n",
       "</div>"
      ],
      "text/plain": [
       "   Pregnancies  Glucose  BloodPressure  SkinThickness  Insulin   BMI  \\\n",
       "0            6       98           58.0           33.0    190.0  34.0   \n",
       "1            2      112           75.0           32.0      0.0  35.7   \n",
       "2            2      108           64.0            0.0      0.0  30.8   \n",
       "3            8      107           80.0            0.0      0.0  24.6   \n",
       "4            7      136           90.0            0.0      0.0  29.9   \n",
       "\n",
       "   DiabetesPedigreeFunction  Age  Outcome  \n",
       "0                     0.430   43        0  \n",
       "1                     0.148   21        0  \n",
       "2                     0.158   21        0  \n",
       "3                     0.856   34        0  \n",
       "4                     0.210   50        0  "
      ]
     },
     "execution_count": 205,
     "metadata": {},
     "output_type": "execute_result"
    }
   ],
   "source": [
    "test_df = pd.read_csv('test.csv')\n",
    "test_df.head()"
   ]
  },
  {
   "cell_type": "code",
   "execution_count": 206,
   "metadata": {},
   "outputs": [],
   "source": [
    "def missing_value(X, y):\n",
    "    \n",
    "    #BloodPressure\n",
    "    blood_pressure_imputer = SimpleImputer(np.nan, strategy = 'mean')\n",
    "    X[:, 2] = blood_pressure_imputer.fit_transform(X[:, 2].reshape(-1, 1)).ravel()\n",
    "    \n",
    "    #SkinThickness\n",
    "    skin_thickness_imputer = SimpleImputer(np.nan, strategy = 'most_frequent')\n",
    "    X[:, 3] = skin_thickness_imputer.fit_transform(X[:, 3].reshape(-1, 1)).ravel()\n",
    "    \n",
    "    #Insulin\n",
    "    insulin_imputer = SimpleImputer(np.nan, strategy = 'most_frequent')\n",
    "    X[:, 4] = insulin_imputer.fit_transform(X[:, 4].reshape(-1, 1)).ravel()\n",
    "    \n",
    "    #BMI\n",
    "    bmi_imputer = SimpleImputer(np.nan, strategy = 'mean')\n",
    "    X[:, 5] = bmi_imputer.fit_transform(X[:, 5].reshape(-1, 1)).ravel()\n",
    "    \n",
    "    #DiabetesPedigreeFunction\n",
    "    diabetes_pedigree_function_imputer = SimpleImputer(np.nan, strategy = 'most_frequent')\n",
    "    X[:, 6] = diabetes_pedigree_function_imputer.fit_transform(X[:, 6].reshape(-1, 1)).ravel()\n",
    "    \n",
    "    return X, y"
   ]
  },
  {
   "cell_type": "code",
   "execution_count": 207,
   "metadata": {},
   "outputs": [],
   "source": [
    "X_train = train_df.iloc[:, :-1].values\n",
    "y_train = train_df.iloc[:, -1].values\n",
    "\n",
    "X_test = test_df.iloc[:, :-1].values\n",
    "y_test = test_df.iloc[:, -1].values"
   ]
  },
  {
   "cell_type": "code",
   "execution_count": 208,
   "metadata": {},
   "outputs": [],
   "source": [
    "X_train, y_train = missing_value(X_train, y_train)\n",
    "X_test, y_test  = missing_value(X_test, y_test)"
   ]
  },
  {
   "cell_type": "code",
   "execution_count": 209,
   "metadata": {},
   "outputs": [
    {
     "data": {
      "text/plain": [
       "LogisticRegression(C=1.0, class_weight=None, dual=False, fit_intercept=True,\n",
       "                   intercept_scaling=1, l1_ratio=None, max_iter=1000,\n",
       "                   multi_class='auto', n_jobs=None, penalty='l2',\n",
       "                   random_state=None, solver='lbfgs', tol=0.0001, verbose=0,\n",
       "                   warm_start=False)"
      ]
     },
     "execution_count": 209,
     "metadata": {},
     "output_type": "execute_result"
    }
   ],
   "source": [
    "clf = LogisticRegression(max_iter=1000)\n",
    "clf.fit(X_train, y_train)"
   ]
  },
  {
   "cell_type": "code",
   "execution_count": 210,
   "metadata": {},
   "outputs": [
    {
     "name": "stdout",
     "output_type": "stream",
     "text": [
      "Accuracy_score: 0.7467532467532467\n"
     ]
    }
   ],
   "source": [
    "y_pred = clf.predict(X_test)\n",
    "print(\"Accuracy_score:\", accuracy_score(y_test, y_pred))"
   ]
  }
 ],
 "metadata": {
  "kernelspec": {
   "display_name": "Python 3",
   "language": "python",
   "name": "python3"
  },
  "language_info": {
   "codemirror_mode": {
    "name": "ipython",
    "version": 3
   },
   "file_extension": ".py",
   "mimetype": "text/x-python",
   "name": "python",
   "nbconvert_exporter": "python",
   "pygments_lexer": "ipython3",
   "version": "3.7.6"
  }
 },
 "nbformat": 4,
 "nbformat_minor": 4
}
