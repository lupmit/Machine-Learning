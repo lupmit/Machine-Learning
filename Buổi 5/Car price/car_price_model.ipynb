{
 "cells": [
  {
   "cell_type": "code",
   "execution_count": 1222,
   "metadata": {},
   "outputs": [],
   "source": [
    "import pandas as pd\n",
    "from sklearn.impute import SimpleImputer\n",
    "from sklearn.preprocessing import OneHotEncoder, LabelEncoder, MinMaxScaler\n",
    "import numpy as np\n",
    "from sklearn.linear_model import LinearRegression, Ridge, Lasso\n",
    "from sklearn.metrics import mean_squared_error"
   ]
  },
  {
   "cell_type": "code",
   "execution_count": 1223,
   "metadata": {},
   "outputs": [
    {
     "name": "stdout",
     "output_type": "stream",
     "text": [
      "Car_Name            NaN\n",
      "Year               2.95\n",
      "Selling_Price      7.74\n",
      "Present_Price     49998\n",
      "Kms_Driven          CNG\n",
      "Fuel_Type        Dealer\n",
      "Seller_Type      Manual\n",
      "Transmission          0\n",
      "Owner               NaN\n",
      "Name: 104, dtype: object\n"
     ]
    },
    {
     "data": {
      "text/plain": [
       "(61, 9)"
      ]
     },
     "execution_count": 1223,
     "metadata": {},
     "output_type": "execute_result"
    }
   ],
   "source": [
    "df_train = pd.read_csv('car_price_train.csv')\n",
    "df_test = pd.read_csv('car_price_test.csv')\n",
    "\n",
    "print(df_train.iloc[104, :])\n",
    "df_train = df_train.drop([104])\n",
    "df_test.shape"
   ]
  },
  {
   "cell_type": "code",
   "execution_count": null,
   "metadata": {},
   "outputs": [],
   "source": []
  },
  {
   "cell_type": "code",
   "execution_count": 1224,
   "metadata": {},
   "outputs": [],
   "source": [
    "def splitdata(dataframe): \n",
    "    feature_columns = [\"Car_Name\", \"Year\", \"Present_Price\", \"Kms_Driven\", \"Fuel_Type\", \"Seller_Type\", \"Transmission\", \"Owner\"]\n",
    "    label_column = \"Selling_Price\"\n",
    "    features = dataframe.loc[:, feature_columns]\n",
    "    label = dataframe.loc[:, label_column]\n",
    "    return features.values, label.values\n",
    "\n",
    "X_train, y_train = splitdata(df_train)\n",
    "X_test, y_test = splitdata(df_test)"
   ]
  },
  {
   "cell_type": "code",
   "execution_count": 1225,
   "metadata": {},
   "outputs": [
    {
     "data": {
      "text/html": [
       "<div>\n",
       "<style scoped>\n",
       "    .dataframe tbody tr th:only-of-type {\n",
       "        vertical-align: middle;\n",
       "    }\n",
       "\n",
       "    .dataframe tbody tr th {\n",
       "        vertical-align: top;\n",
       "    }\n",
       "\n",
       "    .dataframe thead th {\n",
       "        text-align: right;\n",
       "    }\n",
       "</style>\n",
       "<table border=\"1\" class=\"dataframe\">\n",
       "  <thead>\n",
       "    <tr style=\"text-align: right;\">\n",
       "      <th></th>\n",
       "      <th>Car_Name</th>\n",
       "      <th>Year</th>\n",
       "      <th>Selling_Price</th>\n",
       "      <th>Present_Price</th>\n",
       "      <th>Kms_Driven</th>\n",
       "      <th>Fuel_Type</th>\n",
       "      <th>Seller_Type</th>\n",
       "      <th>Transmission</th>\n",
       "      <th>Owner</th>\n",
       "    </tr>\n",
       "  </thead>\n",
       "  <tbody>\n",
       "    <tr>\n",
       "      <th>0</th>\n",
       "      <td>Bajaj Pulsar 150</td>\n",
       "      <td>2008.0</td>\n",
       "      <td>0.25</td>\n",
       "      <td>NaN</td>\n",
       "      <td>NaN</td>\n",
       "      <td>Petrol</td>\n",
       "      <td>NaN</td>\n",
       "      <td>Manual</td>\n",
       "      <td>1.0</td>\n",
       "    </tr>\n",
       "    <tr>\n",
       "      <th>1</th>\n",
       "      <td>Bajaj Avenger 220</td>\n",
       "      <td>2017.0</td>\n",
       "      <td>0.75</td>\n",
       "      <td>0.950</td>\n",
       "      <td>3500</td>\n",
       "      <td>Petrol</td>\n",
       "      <td>Individual</td>\n",
       "      <td>Manual</td>\n",
       "      <td>0.0</td>\n",
       "    </tr>\n",
       "    <tr>\n",
       "      <th>2</th>\n",
       "      <td>Hero  CBZ Xtreme</td>\n",
       "      <td>2008.0</td>\n",
       "      <td>0.20</td>\n",
       "      <td>0.787</td>\n",
       "      <td>NaN</td>\n",
       "      <td>Petrol</td>\n",
       "      <td>Individual</td>\n",
       "      <td>Manual</td>\n",
       "      <td>0.0</td>\n",
       "    </tr>\n",
       "    <tr>\n",
       "      <th>3</th>\n",
       "      <td>etios g</td>\n",
       "      <td>2015.0</td>\n",
       "      <td>3.95</td>\n",
       "      <td>6.800</td>\n",
       "      <td>36000</td>\n",
       "      <td>Petrol</td>\n",
       "      <td>Dealer</td>\n",
       "      <td>Manual</td>\n",
       "      <td>0.0</td>\n",
       "    </tr>\n",
       "    <tr>\n",
       "      <th>4</th>\n",
       "      <td>Royal Enfield Thunder 350</td>\n",
       "      <td>2016.0</td>\n",
       "      <td>1.15</td>\n",
       "      <td>1.500</td>\n",
       "      <td>8700</td>\n",
       "      <td>Petrol</td>\n",
       "      <td>Individual</td>\n",
       "      <td>Manual</td>\n",
       "      <td>0.0</td>\n",
       "    </tr>\n",
       "  </tbody>\n",
       "</table>\n",
       "</div>"
      ],
      "text/plain": [
       "                    Car_Name    Year  Selling_Price  Present_Price Kms_Driven  \\\n",
       "0           Bajaj Pulsar 150  2008.0           0.25            NaN        NaN   \n",
       "1          Bajaj Avenger 220  2017.0           0.75          0.950       3500   \n",
       "2           Hero  CBZ Xtreme  2008.0           0.20          0.787        NaN   \n",
       "3                    etios g  2015.0           3.95          6.800      36000   \n",
       "4  Royal Enfield Thunder 350  2016.0           1.15          1.500       8700   \n",
       "\n",
       "  Fuel_Type Seller_Type Transmission  Owner  \n",
       "0    Petrol         NaN       Manual    1.0  \n",
       "1    Petrol  Individual       Manual    0.0  \n",
       "2    Petrol  Individual       Manual    0.0  \n",
       "3    Petrol      Dealer       Manual    0.0  \n",
       "4    Petrol  Individual       Manual    0.0  "
      ]
     },
     "execution_count": 1225,
     "metadata": {},
     "output_type": "execute_result"
    }
   ],
   "source": [
    "df_train.head()"
   ]
  },
  {
   "cell_type": "markdown",
   "metadata": {},
   "source": [
    "# missing value"
   ]
  },
  {
   "cell_type": "code",
   "execution_count": 1226,
   "metadata": {},
   "outputs": [],
   "source": [
    "car_name_impute = SimpleImputer(np.nan, strategy = 'most_frequent')\n",
    "X_train[:, 0] = car_name_impute.fit_transform(X_train[:, 0].reshape(-1, 1)).ravel()"
   ]
  },
  {
   "cell_type": "code",
   "execution_count": 1227,
   "metadata": {},
   "outputs": [],
   "source": [
    "present_price_imputer = SimpleImputer(np.nan, strategy = 'most_frequent')\n",
    "X_train[:, 2] = present_price_imputer.fit_transform(X_train[:, 2].reshape(-1, 1)).ravel()"
   ]
  },
  {
   "cell_type": "code",
   "execution_count": 1228,
   "metadata": {},
   "outputs": [],
   "source": [
    "kms_driven_imputer = SimpleImputer(np.nan, strategy = 'mean')\n",
    "X_train[:, 3] = present_price_imputer.fit_transform(X_train[:, 3].reshape(-1, 1)).ravel()"
   ]
  },
  {
   "cell_type": "code",
   "execution_count": 1229,
   "metadata": {},
   "outputs": [],
   "source": [
    "value_imputer = SimpleImputer(np.nan, strategy = 'most_frequent')\n",
    "X_train[:, 4:8] = value_imputer.fit_transform(X_train[:, 4:8])"
   ]
  },
  {
   "cell_type": "code",
   "execution_count": 1230,
   "metadata": {},
   "outputs": [
    {
     "name": "stdout",
     "output_type": "stream",
     "text": [
      "Car_Name         0\n",
      "Year             0\n",
      "Present_Price    0\n",
      "Kms_Driven       0\n",
      "Fuel_Type        0\n",
      "Seller_Type      0\n",
      "Transmission     0\n",
      "Owner            0\n",
      "dtype: int64\n"
     ]
    }
   ],
   "source": [
    "feature_columns = [\"Car_Name\", \"Year\", \"Present_Price\", \"Kms_Driven\", \"Fuel_Type\", \"Seller_Type\", \"Transmission\", \"Owner\"]\n",
    "new_df = pd.DataFrame.from_records(X_train, columns=feature_columns)\n",
    "print(new_df.isnull().sum())"
   ]
  },
  {
   "cell_type": "code",
   "execution_count": 1231,
   "metadata": {},
   "outputs": [
    {
     "name": "stderr",
     "output_type": "stream",
     "text": [
      "C:\\Users\\lexua\\Anaconda3\\lib\\site-packages\\sklearn\\utils\\validation.py:595: DataConversionWarning: Data with input dtype object was converted to float64 by MinMaxScaler.\n",
      "  warnings.warn(msg, DataConversionWarning)\n",
      "C:\\Users\\lexua\\Anaconda3\\lib\\site-packages\\sklearn\\utils\\validation.py:595: DataConversionWarning: Data with input dtype object was converted to float64 by MinMaxScaler.\n",
      "  warnings.warn(msg, DataConversionWarning)\n",
      "C:\\Users\\lexua\\Anaconda3\\lib\\site-packages\\sklearn\\utils\\validation.py:595: DataConversionWarning: Data with input dtype object was converted to float64 by MinMaxScaler.\n",
      "  warnings.warn(msg, DataConversionWarning)\n",
      "C:\\Users\\lexua\\Anaconda3\\lib\\site-packages\\sklearn\\utils\\validation.py:595: DataConversionWarning: Data with input dtype object was converted to float64 by MinMaxScaler.\n",
      "  warnings.warn(msg, DataConversionWarning)\n"
     ]
    }
   ],
   "source": [
    "def normalize(X):\n",
    "    label_encoder = LabelEncoder()\n",
    "    minmax_scaler = MinMaxScaler()\n",
    "    \n",
    "    #Year\n",
    "    X[:, 1] = minmax_scaler.fit_transform(X[:, 1].reshape(-1, 1)).ravel()\n",
    "    # Kms_Driven\n",
    "    X[:, 3] = minmax_scaler.fit_transform(X[:, 3].reshape(-1, 1)).ravel()\n",
    "    #Seller_Type\n",
    "    X[:, 5] = label_encoder.fit_transform(X[:, 5])\n",
    "    #Transmission\n",
    "    X[:, -2] = label_encoder.fit_transform(X[:, -2]) \n",
    "    #Fuel_Type\n",
    "    X[:, 4] = label_encoder.fit_transform(X[:, 4])\n",
    "    return X\n",
    "\n",
    "X_train = normalize(X_train)\n",
    "X_test = normalize(X_test)\n",
    "\n",
    "\n",
    "\n",
    "encoder = OneHotEncoder()\n",
    "\n",
    "Z = np.concatenate((X_train[:, 0], X_test[:, 0]), axis=0)\n",
    "onehot = encoder.fit_transform(Z[:].reshape(-1,1)).toarray()\n",
    "onehot_test = onehot[X_train[:, 0].shape[0]:]\n",
    "onehot_train = onehot[:X_train[:, 0].shape[0]]\n",
    "\n",
    "X_test = np.delete(X_test, 0, axis=1)\n",
    "X_test = np.concatenate((onehot_test, X_test), axis=1)\n",
    "\n",
    "X_train = np.delete(X_train, 0, axis=1)\n",
    "X_train = np.concatenate((onehot_train, X_train), axis=1)\n"
   ]
  },
  {
   "cell_type": "code",
   "execution_count": 1232,
   "metadata": {},
   "outputs": [
    {
     "name": "stdout",
     "output_type": "stream",
     "text": [
      "Root Mean Square Error Train: 1.2613429310843947\n",
      "Root Mean Square Error Test: 133861093715.39224\n"
     ]
    }
   ],
   "source": [
    "linear = LinearRegression()\n",
    "linear.fit(X_train, y_train)\n",
    "\n",
    "predict_train = linear.predict(X_train)\n",
    "print(\"Root Mean Square Error Train: {}\".format(np.sqrt(mean_squared_error(y_train, predict_train))))\n",
    "predict_test = linear.predict(X_test)\n",
    "print(\"Root Mean Square Error Test: {}\".format(np.sqrt(mean_squared_error(y_test, predict_test))))"
   ]
  },
  {
   "cell_type": "code",
   "execution_count": 1233,
   "metadata": {},
   "outputs": [
    {
     "name": "stdout",
     "output_type": "stream",
     "text": [
      "Root Mean Square Error Train: 1.2691238753170988\n",
      "Root Mean Square Error Test: 1.534703664130626\n"
     ]
    }
   ],
   "source": [
    "ridge = Ridge(alpha = 0.1)\n",
    "ridge.fit(X_train, y_train)\n",
    "\n",
    "predict_train = ridge.predict(X_train)\n",
    "print(\"Root Mean Square Error Train: {}\".format(np.sqrt(mean_squared_error(y_train, predict_train))))\n",
    "\n",
    "predict_test = ridge.predict(X_test)\n",
    "print(\"Root Mean Square Error Test: {}\".format(np.sqrt(mean_squared_error(y_test, predict_test))))"
   ]
  }
 ],
 "metadata": {
  "kernelspec": {
   "display_name": "Python 3",
   "language": "python",
   "name": "python3"
  },
  "language_info": {
   "codemirror_mode": {
    "name": "ipython",
    "version": 3
   },
   "file_extension": ".py",
   "mimetype": "text/x-python",
   "name": "python",
   "nbconvert_exporter": "python",
   "pygments_lexer": "ipython3",
   "version": "3.7.3"
  }
 },
 "nbformat": 4,
 "nbformat_minor": 2
}
